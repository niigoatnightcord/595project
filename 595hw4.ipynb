{
  "nbformat": 4,
  "nbformat_minor": 0,
  "metadata": {
    "colab": {
      "provenance": [],
      "authorship_tag": "ABX9TyPXOXcT/7xPX8+ajuit2G7Z",
      "include_colab_link": true
    },
    "kernelspec": {
      "name": "python3",
      "display_name": "Python 3"
    },
    "language_info": {
      "name": "python"
    }
  },
  "cells": [
    {
      "cell_type": "markdown",
      "metadata": {
        "id": "view-in-github",
        "colab_type": "text"
      },
      "source": [
        "<a href=\"https://colab.research.google.com/github/niigoatnightcord/595project/blob/main/595hw4.ipynb\" target=\"_parent\"><img src=\"https://colab.research.google.com/assets/colab-badge.svg\" alt=\"Open In Colab\"/></a>"
      ]
    },
    {
      "cell_type": "code",
      "execution_count": 1,
      "metadata": {
        "id": "TyTZNnujtWew"
      },
      "outputs": [],
      "source": [
        "with open('mandelbrot.py', 'w') as f:\n",
        "    f.write(\"\"\"\n",
        "import numpy as np\n",
        "import matplotlib.pyplot as plt\n",
        "\n",
        "#generate complex number\n",
        "x, y = np.mgrid[-2:1:1000j, -1.5:1.5:1000j]\n",
        "c = x + 1j * y\n",
        "\n",
        "#set threshhold of divergence and max iteration\n",
        "threshold = 50\n",
        "max_iter = 100\n",
        "\n",
        "#initialize z with the same shape of c and set all values to zero\n",
        "z = np.zeros_like(c, dtype = complex)\n",
        "\n",
        "#decide whether a point is in the Mandelbrot set\n",
        "for n in range(max_iter):\n",
        "    mask = np.abs(z) < threshold #mask select\n",
        "    z[mask] = z[mask] ** 2 + c[mask]\n",
        "\n",
        "plt.imshow(mask.T, extent=[-2, 1, -1.5, 1.5], cmap='gray') # arry to image needs transpose (mask.T)\n",
        "plt.colorbar()\n",
        "plt.savefig('mandelbrot.png', dpi=150)\n",
        "plt.grid(True)\n",
        "plt.show()\n",
        "\"\"\")"
      ]
    },
    {
      "cell_type": "code",
      "source": [
        "with open('markov chain.py', 'w') as f:\n",
        "    f.write(\"\"\"\n",
        "\n",
        "import numpy as np\n",
        "\n",
        "#construct a random 5x5 transition matrix P and normalize each row\n",
        "P = np.random.rand(5, 5)\n",
        "P = P / P.sum(axis=1, keepdims=True)  #normalize each row to sum to 1\n",
        "# axis = 1 is row, axis = 0 is column\n",
        "\n",
        "# construct a random probability vector p and normalize it\n",
        "p = np.random.rand(5)\n",
        "p = p / p.sum()  #normalize so that sum(p) = 1\n",
        "\n",
        "#apply the transition rule 50 times to obtain p50\n",
        "p_current = p\n",
        "for _ in range(50):\n",
        "    p_current = np.dot(P.T, p_current)\n",
        "\n",
        "p_50 = p_current\n",
        "\n",
        "# eigenvector corresponding to the eigenvalue 1 for P.T (stationary distribution)\n",
        "eigenvalues, eigenvectors = np.linalg.eig(P.T)\n",
        "\n",
        "#index of the eigenvalue closest to 1\n",
        "index = np.argmin(np.abs(eigenvalues - 1))\n",
        "\n",
        "v = eigenvectors[:, index].real  #eigenvector associated with eigenvalue 1 and take the real part\n",
        "v = v / v.sum()  #normalize v to make it a probability vector (stationary distribution)\n",
        "\n",
        "#component-wise difference between p50 and the stationary distribution\n",
        "difference = np.abs(p_50 - v)\n",
        "\n",
        "print(\"Transition matrix P:\\n\", P)\n",
        "print(\"\\nInitial probability vector p:\\n\", p)\n",
        "print(\"\\nProbability vector after 50 transitions (p50):\\n\", p_50)\n",
        "print(\"Eigenvalue closest to 1:\\n\", eigenvalues[index])\n",
        "print(\"\\nStationary distribution (scaled eigenvector):\\n\", v)\n",
        "print(\"\\nComponent-wise difference between p50 and stationary distribution:\\n\", difference)\n",
        "print(\"\\nDo p50 and the stationary distribution match within 10^-5?\", np.all(difference < 1e-5))\n",
        "\"\"\")"
      ],
      "metadata": {
        "id": "i3lORxjPyxlP"
      },
      "execution_count": 2,
      "outputs": []
    },
    {
      "cell_type": "code",
      "source": [
        "with open('taylor.py', 'w') as f:\n",
        "    f.write(\"\"\"\n",
        "import numpy as np\n",
        "import pandas as pd\n",
        "import sympy as sp\n",
        "import time\n",
        "import matplotlib.pyplot as plt\n",
        "\n",
        "#calculate Taylor series approximation of given func\n",
        "def taylor_series(func, start, end, degree, fixed_c):\n",
        "    x = sp.symbols('x')#symbolic variation for differentiation\n",
        "    func_sym = func(x)#sybolic function\n",
        "    derivatives = [func_sym]#first term is func\n",
        "    for i in range(1, degree + 1): #from 1 to degree\n",
        "        derivatives.append(sp.diff(derivatives[i - 1], x)) #append ith derivative\n",
        "\n",
        "    x_values = np.linspace(start, end, 100)\n",
        "    #generate an array of x in the interval of [start,end] of 100 pts\n",
        "    y_approx = np.zeros_like(x_values)#initialize an array for storage\n",
        "\n",
        "    #compute approx for each xi\n",
        "    for i, xi in enumerate(x_values):\n",
        "        approx_val = 0\n",
        "        for n in range(degree + 1):\n",
        "            derivative_val = derivatives[n].subs(x, fixed_c)#value of nth derivative at x=c\n",
        "            approx_val += (derivative_val / np.math.factorial(n)) * ((xi - fixed_c) ** n)\n",
        "            #nth term of approx and add to the formula\n",
        "        y_approx[i] = approx_val #store the computed approx\n",
        "\n",
        "    return x_values, y_approx\n",
        "\n",
        "# evaluate Taylor series with varying degrees\n",
        "def evaluate_varying_degrees(func, start, end, fixed_c, initial_degree, final_degree, degree_step):\n",
        "    x = sp.symbols('x')#symbolic var x\n",
        "    func_sym = func(x)#symbolic func\n",
        "    f = sp.lambdify(x, func_sym, 'numpy')#convert symbolic fuc to numpy func\n",
        "\n",
        "    x_values = np.linspace(start, end, 100)\n",
        "    y_true = f(x_values)#value of true func\n",
        "\n",
        "    # DataFrame to store results for each degree\n",
        "    results = {'Degree': [], 'Difference': [], 'Time Taken': []}\n",
        "\n",
        "    #loop through certain range\n",
        "    for degree in range(initial_degree, final_degree + 1, degree_step):\n",
        "        tic = time.time()\n",
        "        _, y_approx = taylor_series(func, start, end, degree, fixed_c)\n",
        "        toc = time.time()\n",
        "\n",
        "        #diiference btw approx and true func\n",
        "        difference = np.sum(np.abs(y_true - y_approx))\n",
        "        time_taken = toc - tic\n",
        "\n",
        "        #store the results in DataFrame\n",
        "        results['Degree'].append(degree)\n",
        "        results['Difference'].append(difference)\n",
        "        results['Time Taken'].append(time_taken)\n",
        "\n",
        "    #convert results dictionary to DataFrame and save as CSV\n",
        "    df_results = pd.DataFrame(results)\n",
        "    df_results.to_csv('taylor_values.csv', index=False)\n",
        "\n",
        "if __name__ == \"__main__\":\n",
        "    #define the function by anonymous func\n",
        "    func = lambda x: x * sp.sin(x)**2 + sp.cos(x)\n",
        "\n",
        "    #plot Taylor series approximation for a specific degree\n",
        "    x_values, y_approx = taylor_series(func, -10, 10, 99, 0)\n",
        "    f = sp.lambdify(sp.symbols('x'), func(sp.symbols('x')), 'numpy')\n",
        "    y_true = f(x_values)\n",
        "\n",
        "    #plot the function and approximation\n",
        "    plt.plot(x_values, y_true, label='f(x) = x * sin^2(x) + cos(x)', color='blue')\n",
        "    plt.plot(x_values, y_approx, label='Taylor Approximation (m=99)', color='orange', linestyle='--')\n",
        "    plt.xlabel('x')\n",
        "    plt.ylabel('f(x)')\n",
        "    plt.legend()\n",
        "    plt.title('Taylor Series Approximation of f(x)')\n",
        "    plt.show()\n",
        "\n",
        "    #evaluate Taylor series with varying degrees and save results\n",
        "    evaluate_varying_degrees(func, start=-10, end=10, fixed_c=0, initial_degree=50, final_degree=100, degree_step=10)\n",
        "\"\"\")"
      ],
      "metadata": {
        "id": "rKHYpzWNPdqN"
      },
      "execution_count": 3,
      "outputs": []
    },
    {
      "cell_type": "code",
      "source": [
        "from google.colab import files\n",
        "\n",
        "files.download('mandelbrot.py')\n",
        "files.download('markov chain.py')\n",
        "files.download('taylor.py')"
      ],
      "metadata": {
        "colab": {
          "base_uri": "https://localhost:8080/",
          "height": 17
        },
        "id": "fJIVl7Hnvws9",
        "outputId": "c021cbff-2734-4399-a7e8-fba8daf07d16"
      },
      "execution_count": 4,
      "outputs": [
        {
          "output_type": "display_data",
          "data": {
            "text/plain": [
              "<IPython.core.display.Javascript object>"
            ],
            "application/javascript": [
              "\n",
              "    async function download(id, filename, size) {\n",
              "      if (!google.colab.kernel.accessAllowed) {\n",
              "        return;\n",
              "      }\n",
              "      const div = document.createElement('div');\n",
              "      const label = document.createElement('label');\n",
              "      label.textContent = `Downloading \"${filename}\": `;\n",
              "      div.appendChild(label);\n",
              "      const progress = document.createElement('progress');\n",
              "      progress.max = size;\n",
              "      div.appendChild(progress);\n",
              "      document.body.appendChild(div);\n",
              "\n",
              "      const buffers = [];\n",
              "      let downloaded = 0;\n",
              "\n",
              "      const channel = await google.colab.kernel.comms.open(id);\n",
              "      // Send a message to notify the kernel that we're ready.\n",
              "      channel.send({})\n",
              "\n",
              "      for await (const message of channel.messages) {\n",
              "        // Send a message to notify the kernel that we're ready.\n",
              "        channel.send({})\n",
              "        if (message.buffers) {\n",
              "          for (const buffer of message.buffers) {\n",
              "            buffers.push(buffer);\n",
              "            downloaded += buffer.byteLength;\n",
              "            progress.value = downloaded;\n",
              "          }\n",
              "        }\n",
              "      }\n",
              "      const blob = new Blob(buffers, {type: 'application/binary'});\n",
              "      const a = document.createElement('a');\n",
              "      a.href = window.URL.createObjectURL(blob);\n",
              "      a.download = filename;\n",
              "      div.appendChild(a);\n",
              "      a.click();\n",
              "      div.remove();\n",
              "    }\n",
              "  "
            ]
          },
          "metadata": {}
        },
        {
          "output_type": "display_data",
          "data": {
            "text/plain": [
              "<IPython.core.display.Javascript object>"
            ],
            "application/javascript": [
              "download(\"download_b74d9a24-efd7-4d3d-9c9f-83d2a928397d\", \"mandelbrot.py\", 662)"
            ]
          },
          "metadata": {}
        },
        {
          "output_type": "display_data",
          "data": {
            "text/plain": [
              "<IPython.core.display.Javascript object>"
            ],
            "application/javascript": [
              "\n",
              "    async function download(id, filename, size) {\n",
              "      if (!google.colab.kernel.accessAllowed) {\n",
              "        return;\n",
              "      }\n",
              "      const div = document.createElement('div');\n",
              "      const label = document.createElement('label');\n",
              "      label.textContent = `Downloading \"${filename}\": `;\n",
              "      div.appendChild(label);\n",
              "      const progress = document.createElement('progress');\n",
              "      progress.max = size;\n",
              "      div.appendChild(progress);\n",
              "      document.body.appendChild(div);\n",
              "\n",
              "      const buffers = [];\n",
              "      let downloaded = 0;\n",
              "\n",
              "      const channel = await google.colab.kernel.comms.open(id);\n",
              "      // Send a message to notify the kernel that we're ready.\n",
              "      channel.send({})\n",
              "\n",
              "      for await (const message of channel.messages) {\n",
              "        // Send a message to notify the kernel that we're ready.\n",
              "        channel.send({})\n",
              "        if (message.buffers) {\n",
              "          for (const buffer of message.buffers) {\n",
              "            buffers.push(buffer);\n",
              "            downloaded += buffer.byteLength;\n",
              "            progress.value = downloaded;\n",
              "          }\n",
              "        }\n",
              "      }\n",
              "      const blob = new Blob(buffers, {type: 'application/binary'});\n",
              "      const a = document.createElement('a');\n",
              "      a.href = window.URL.createObjectURL(blob);\n",
              "      a.download = filename;\n",
              "      div.appendChild(a);\n",
              "      a.click();\n",
              "      div.remove();\n",
              "    }\n",
              "  "
            ]
          },
          "metadata": {}
        },
        {
          "output_type": "display_data",
          "data": {
            "text/plain": [
              "<IPython.core.display.Javascript object>"
            ],
            "application/javascript": [
              "download(\"download_40c418c3-8e81-4e65-9925-91bfc0c6ee24\", \"markov chain.py\", 1439)"
            ]
          },
          "metadata": {}
        },
        {
          "output_type": "display_data",
          "data": {
            "text/plain": [
              "<IPython.core.display.Javascript object>"
            ],
            "application/javascript": [
              "\n",
              "    async function download(id, filename, size) {\n",
              "      if (!google.colab.kernel.accessAllowed) {\n",
              "        return;\n",
              "      }\n",
              "      const div = document.createElement('div');\n",
              "      const label = document.createElement('label');\n",
              "      label.textContent = `Downloading \"${filename}\": `;\n",
              "      div.appendChild(label);\n",
              "      const progress = document.createElement('progress');\n",
              "      progress.max = size;\n",
              "      div.appendChild(progress);\n",
              "      document.body.appendChild(div);\n",
              "\n",
              "      const buffers = [];\n",
              "      let downloaded = 0;\n",
              "\n",
              "      const channel = await google.colab.kernel.comms.open(id);\n",
              "      // Send a message to notify the kernel that we're ready.\n",
              "      channel.send({})\n",
              "\n",
              "      for await (const message of channel.messages) {\n",
              "        // Send a message to notify the kernel that we're ready.\n",
              "        channel.send({})\n",
              "        if (message.buffers) {\n",
              "          for (const buffer of message.buffers) {\n",
              "            buffers.push(buffer);\n",
              "            downloaded += buffer.byteLength;\n",
              "            progress.value = downloaded;\n",
              "          }\n",
              "        }\n",
              "      }\n",
              "      const blob = new Blob(buffers, {type: 'application/binary'});\n",
              "      const a = document.createElement('a');\n",
              "      a.href = window.URL.createObjectURL(blob);\n",
              "      a.download = filename;\n",
              "      div.appendChild(a);\n",
              "      a.click();\n",
              "      div.remove();\n",
              "    }\n",
              "  "
            ]
          },
          "metadata": {}
        },
        {
          "output_type": "display_data",
          "data": {
            "text/plain": [
              "<IPython.core.display.Javascript object>"
            ],
            "application/javascript": [
              "download(\"download_1367215d-9779-490a-b95c-d5cf5ae3230d\", \"taylor.py\", 3224)"
            ]
          },
          "metadata": {}
        }
      ]
    },
    {
      "cell_type": "code",
      "source": [
        "from google.colab import files\n",
        "files.download('taylor_values.csv')"
      ],
      "metadata": {
        "id": "ef8HNfBOmBBf",
        "colab": {
          "base_uri": "https://localhost:8080/",
          "height": 17
        },
        "outputId": "c526a23e-abb7-47d7-8dce-276fdadf13b6"
      },
      "execution_count": 8,
      "outputs": [
        {
          "output_type": "display_data",
          "data": {
            "text/plain": [
              "<IPython.core.display.Javascript object>"
            ],
            "application/javascript": [
              "\n",
              "    async function download(id, filename, size) {\n",
              "      if (!google.colab.kernel.accessAllowed) {\n",
              "        return;\n",
              "      }\n",
              "      const div = document.createElement('div');\n",
              "      const label = document.createElement('label');\n",
              "      label.textContent = `Downloading \"${filename}\": `;\n",
              "      div.appendChild(label);\n",
              "      const progress = document.createElement('progress');\n",
              "      progress.max = size;\n",
              "      div.appendChild(progress);\n",
              "      document.body.appendChild(div);\n",
              "\n",
              "      const buffers = [];\n",
              "      let downloaded = 0;\n",
              "\n",
              "      const channel = await google.colab.kernel.comms.open(id);\n",
              "      // Send a message to notify the kernel that we're ready.\n",
              "      channel.send({})\n",
              "\n",
              "      for await (const message of channel.messages) {\n",
              "        // Send a message to notify the kernel that we're ready.\n",
              "        channel.send({})\n",
              "        if (message.buffers) {\n",
              "          for (const buffer of message.buffers) {\n",
              "            buffers.push(buffer);\n",
              "            downloaded += buffer.byteLength;\n",
              "            progress.value = downloaded;\n",
              "          }\n",
              "        }\n",
              "      }\n",
              "      const blob = new Blob(buffers, {type: 'application/binary'});\n",
              "      const a = document.createElement('a');\n",
              "      a.href = window.URL.createObjectURL(blob);\n",
              "      a.download = filename;\n",
              "      div.appendChild(a);\n",
              "      a.click();\n",
              "      div.remove();\n",
              "    }\n",
              "  "
            ]
          },
          "metadata": {}
        },
        {
          "output_type": "display_data",
          "data": {
            "text/plain": [
              "<IPython.core.display.Javascript object>"
            ],
            "application/javascript": [
              "download(\"download_e4000224-8932-454a-958f-e44c9885e158\", \"taylor_values.csv\", 292)"
            ]
          },
          "metadata": {}
        }
      ]
    }
  ]
}