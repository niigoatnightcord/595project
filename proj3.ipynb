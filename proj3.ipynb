{
  "cells": [
    {
      "cell_type": "markdown",
      "metadata": {
        "id": "xq__bChjD04e"
      },
      "source": [
        "# Python Assignment 1"
      ]
    },
    {
      "cell_type": "markdown",
      "metadata": {
        "id": "y7j2V0UDMYLG"
      },
      "source": [
        "⏱⏱⏱**Due: 10/20/2024 11:59:59 PM** ⏱⏱⏱\n",
        "\n",
        "Submit this notebook file and upload it to your git repo. Include a link to your git repo while submitting this file to Brightspace.\n",
        "\n",
        "You are not allowed to use chatgpt or any LLM in this assignment.\n",
        "Cooperation is allowed and encouraged; however, you must write up and submit your own work. If you cooperate with others, you must list their names here."
      ]
    },
{
  "cells": [
    {
      "cell_type": "markdown",
      "metadata": {
        "id": "SUS30Ew9D04n"
      },
      "source": [
        "Total points: 100 (equivalent to 20 points after conversion)"
      ]
    },
    {
      "cell_type": "markdown",
      "metadata": {
        "id": "b_bgT3b2GYTB"
      },
      "source": [
        "## 0. Data Types, Structures, Indexing, and Slicing"
      ]
    },
    {
      "cell_type": "markdown",
      "metadata": {
        "id": "6yI1Jt57IwV2"
      },
      "source": [
        "Read the lecture note as well as [this page](https://www.geeksforgeeks.org/mutable-vs-immutable-objects-in-python/) and [this page](https://www.geeksforgeeks.org/difference-between-shallow-and-deep-copy-of-a-class/). Complete the following questions.\n",
        "\n",
        "(5 points) Give some examples (at least 2) of mutable objects in Python.\n",
        "\n",
        "***Answer:***\n",
        "- Python list\n",
        "- Python dict\n",
        "- Python set\n",
        "\n",
        "(5 points) Give some examples (at least 2) of immutable objects in Python.\n",
        "\n",
        "***Answer:***\n",
        "- float\n",
        "- bool\n",
        "- string\n",
        "- tuple\n",
        "\n",
        "(10 points) State the differences between assignment, shallow copy, and deep copy.\n",
        "\n",
        "***Answer:***\n",
        "- **Shallow Copy**: Creates a new object but copies references to nested objects. Changes to nested objects affect both the original and the copy.\n",
        "- **Deep Copy**: Creates a new object and recursively copies all nested objects. Changes to one do not affect the other.\n",
        "---\n"
      ]
    },
    {
      "cell_type": "markdown",
      "metadata": {
        "id": "OA8DxcrrGqZD"
      },
      "source": [
        "(10 points) Using string methods find() and rfind(), find the index of the first digit (i.e., 0) and the index of the last digit (5) in the string below. Then, using string slicing, extract the number (i.e., 0.595595) from this string and convert it to a floating-point number. Print out this float to the console."
      ]
    },
    {
      "cell_type": "code",
      "metadata": {
        "id": "AUuFXXWqG4D3"
      },
      "source": [
        "text = \"F-DGFDDSFGFD-CFDSHdstgfdfe: tfsd  aaa bdsf 0.595595 fdsgfdbc\"\n",
        "first_digit_index = text.find('0')\n",
        "last_digit_index = text.rfind('5') + 1\n",
        "number_str = text[first_digit_index:last_digit_index]\n",
        "number = float(number_str)\n",
        "print(number)"
      ]
    },
    {
      "cell_type": "markdown",
      "metadata": {
        "id": "cnCljYgpD04p"
      },
      "source": [
        "## 1. Conditional Statements\n",
        "(10 points) Translate the following MATLAB code into Python using `if-elif-else`."
      ]
    },
    {
      "cell_type": "code",
      "metadata": {
        "id": "9d8vl5zjD04q"
      },
      "source": [
        "n = input('Enter a number: ')\n",
        "if n == '-1':\n",
        "    print('negative one')\n",
        "elif n == '0':\n",
        "    print('zero')\n",
        "elif n == '1':\n",
        "    print('positive one')\n",
        "else:\n",
        "    print('other value')"
      ]
    },
    {
      "cell_type": "markdown",
      "metadata": {
        "id": "sW9XiUPpD04s"
      },
      "source": [
        "## 2. While Loops\n",
        "(10 points) Write a Python program that calculates the factorial of a given number using a while loop."
      ]
    },
    {
      "cell_type": "code",
      "metadata": {
        "id": "CRCERx8uD04t"
      },
      "source": [
        "n = int(input('Enter a number: '))\n",
        "factorial = 1\n",
        "i = 1\n",
        "while i <= n:\n",
        "    factorial *= i\n",
        "    i += 1\n",
        "print(factorial)"
      ]
    },
    {
      "cell_type": "markdown",
      "metadata": {
        "id": "ZQ5SVMq6D04w"
      },
      "source": [
        "## 3. Functions\n",
        "(10 points) Write a function that determines if a number is prime."
      ]
    },
    {
      "cell_type": "code",
      "metadata": {
        "id": "6rGP5G3_D04x"
      },
      "source": [
        "def is_prime(n):\n",
        "    if n <= 1:\n",
        "        return False\n",
        "    for i in range(2, int(n ** 0.5) + 1):\n",
        "        if n % i == 0:\n",
        "            return False\n",
        "    return True"
      ]
    },
    {
      "cell_type": "markdown",
      "metadata": {
        "id": "Z6qg-fpQD04u"
      },
      "source": [
        "## 4. List Comprehension\n",
        "(10 points) Write a Python function called `prime_factors` that returns a list of distinct prime factors of a number."
      ]
    },
    {
      "cell_type": "code",
      "metadata": {
        "id": "2hSCjYlOD04v"
      },
      "source": [
        "def prime_factors(n):\n",
        "    return [i for i in range(2, n+1) if n % i == 0 and is_prime(i)]"
      ]
    },
    {
      "cell_type": "markdown",
      "metadata": {
        "id": "dw4kZZCiD040"
      },
      "source": [
        "## 5. Recursive Functions\n",
        "(25 points) Write a function that uses recursion to generate the nth row of Pascal's triangle."
      ]
    },
    {
      "cell_type": "code",
      "metadata": {
        "id": "V8QFB_gKD040"
      },
      "source": [
        "def pascal(n):\n",
        "    if n == 0:\n",
        "        return [1]\n",
        "    else:\n",
        "        row = [1]\n",
        "        prev_row = pascal(n - 1)\n",
        "        for i in range(len(prev_row) - 1):\n",
        "            row.append(prev_row[i] + prev_row[i + 1])\n",
        "        row.append(1)\n",
        "        return row"
      ]
    },
    {
      "cell_type": "markdown",
      "metadata": {
        "id": "eZytgm0qD041"
      },
      "source": [
        "Rewrite the above function using loops instead of recursion."
      ]
    },
    {
      "cell_type": "code",
      "metadata": {
        "id": "UZ8f-akaD041"
      },
      "source": [
        "def pascal_by_loops(n):\n",
        "    if n == 0:\n",
        "        return [1]\n",
        "    row = [1]\n",
        "    prev_row = pascal_by_loops(n - 1)\n",
        "    i = 0\n",
        "    while i < len(prev_row) - 1:\n",
        "        row.append(prev_row[i] + prev_row[i + 1])\n",
        "        i += 1\n",
        "    row.append(1)\n",
        "    return row"
      ]
    }
  ],
  "metadata": {
    "kernelspec": {
      "display_name": "Python 3",
      "language": "python",
      "name": "python3"
    },
    "language_info": {
      "name": "python",
      "version": "3.7.4"
    }
  },
  "nbformat": 4,
  "nbformat_minor": 0
}
